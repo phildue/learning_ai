{
 "cells": [
  {
   "cell_type": "code",
   "execution_count": 1,
   "metadata": {},
   "outputs": [],
   "source": [
    "import torch\n",
    "import torch.nn as nn\n",
    "import numpy as np\n",
    "from tqdm import tqdm\n",
    "import random\n",
    "import hydra\n",
    "from omegaconf import OmegaConf\n",
    "from ai.experiment_tracking.tracker import Tracker\n",
    "from ai.datasets.cifar10 import Cifar10\n",
    "from ai.models import models\n"
   ]
  },
  {
   "cell_type": "code",
   "execution_count": 2,
   "metadata": {},
   "outputs": [],
   "source": [
    "def train(model: torch.nn.Module, data_loader: torch.utils.data.DataLoader, criterion, optimizer:torch.optim.Optimizer):\n",
    "    device = torch.device('cuda' if torch.cuda.is_available() else 'cpu')\n",
    "    for i, (images, labels) in enumerate(tqdm(data_loader,desc='Training')):  \n",
    "            images = images.to(device)\n",
    "            labels = labels.to(device)\n",
    "            \n",
    "            outputs = model(images)\n",
    "            loss = criterion(outputs, labels)\n",
    "            \n",
    "            optimizer.zero_grad()\n",
    "            loss.backward()\n",
    "            optimizer.step()\n",
    "    return loss"
   ]
  },
  {
   "cell_type": "code",
   "execution_count": 3,
   "metadata": {},
   "outputs": [],
   "source": [
    "def evaluate(model: torch.nn.Module, data_loader: torch.utils.data.DataLoader, criterion):\n",
    "    device = torch.device('cuda' if torch.cuda.is_available() else 'cpu')\n",
    "    with torch.no_grad():\n",
    "        correct = 0\n",
    "        total = 0\n",
    "        loss_val = 0\n",
    "        labels_all = []\n",
    "        for images, labels in tqdm(data_loader,desc='Testing'):\n",
    "            images = images.to(device)\n",
    "            labels = labels.to(device)\n",
    "            outputs = model(images)\n",
    "            loss_val += criterion(outputs, labels)\n",
    "            _, predicted = torch.max(outputs.data, 1)\n",
    "            total += labels.size(0)\n",
    "            correct += (predicted == labels).sum().item()\n",
    "            labels_all += [predicted]\n",
    "\n",
    "    return correct/total, loss_val/len(data_loader), labels_all"
   ]
  },
  {
   "cell_type": "code",
   "execution_count": 6,
   "metadata": {},
   "outputs": [
    {
     "name": "stdout",
     "output_type": "stream",
     "text": [
      "Running training with: experiment_name: train_cnn_cifar\n",
      "batch_size: 128\n",
      "learning_rate: 0.001\n",
      "num_epochs: 100\n",
      "model_name: cnn\n",
      "dataset_name: cifar10\n",
      "height: 32\n",
      "width: 32\n",
      "checkpoint: ''\n",
      "use_wandb: true\n",
      "data_path: /mnt/dataset/pytorch\n",
      "seed: 666\n",
      "\n",
      "Files already downloaded and verified\n",
      "Files already downloaded and verified\n",
      "Files already downloaded and verified\n",
      "Selected device: [cpu]\n"
     ]
    },
    {
     "data": {
      "text/html": [
       "Finishing last run (ID:pkvc4jqi) before initializing another..."
      ],
      "text/plain": [
       "<IPython.core.display.HTML object>"
      ]
     },
     "metadata": {},
     "output_type": "display_data"
    },
    {
     "data": {
      "text/html": [
       " View run <strong style=\"color:#cdcd00\">train_cnn_cifar</strong> at: <a href='https://wandb.ai/phildue/image_classification/runs/pkvc4jqi' target=\"_blank\">https://wandb.ai/phildue/image_classification/runs/pkvc4jqi</a><br/> View project at: <a href='https://wandb.ai/phildue/image_classification' target=\"_blank\">https://wandb.ai/phildue/image_classification</a><br/>Synced 6 W&B file(s), 0 media file(s), 0 artifact file(s) and 0 other file(s)"
      ],
      "text/plain": [
       "<IPython.core.display.HTML object>"
      ]
     },
     "metadata": {},
     "output_type": "display_data"
    },
    {
     "data": {
      "text/html": [
       "Find logs at: <code>./wandb/run-20240728_130312-pkvc4jqi/logs</code>"
      ],
      "text/plain": [
       "<IPython.core.display.HTML object>"
      ]
     },
     "metadata": {},
     "output_type": "display_data"
    },
    {
     "data": {
      "text/html": [
       "The new W&B backend becomes opt-out in version 0.18.0; try it out with `wandb.require(\"core\")`! See https://wandb.me/wandb-core for more information."
      ],
      "text/plain": [
       "<IPython.core.display.HTML object>"
      ]
     },
     "metadata": {},
     "output_type": "display_data"
    },
    {
     "data": {
      "text/html": [
       "Successfully finished last run (ID:pkvc4jqi). Initializing new run:<br/>"
      ],
      "text/plain": [
       "<IPython.core.display.HTML object>"
      ]
     },
     "metadata": {},
     "output_type": "display_data"
    },
    {
     "data": {
      "text/html": [
       "Tracking run with wandb version 0.17.5"
      ],
      "text/plain": [
       "<IPython.core.display.HTML object>"
      ]
     },
     "metadata": {},
     "output_type": "display_data"
    },
    {
     "data": {
      "text/html": [
       "Run data is saved locally in <code>/home/ai/ai/notebooks/wandb/run-20240728_130515-5959rgjd</code>"
      ],
      "text/plain": [
       "<IPython.core.display.HTML object>"
      ]
     },
     "metadata": {},
     "output_type": "display_data"
    },
    {
     "data": {
      "text/html": [
       "Syncing run <strong><a href='https://wandb.ai/phildue/image_classification/runs/5959rgjd' target=\"_blank\">train_cnn_cifar</a></strong> to <a href='https://wandb.ai/phildue/image_classification' target=\"_blank\">Weights & Biases</a> (<a href='https://wandb.me/run' target=\"_blank\">docs</a>)<br/>"
      ],
      "text/plain": [
       "<IPython.core.display.HTML object>"
      ]
     },
     "metadata": {},
     "output_type": "display_data"
    },
    {
     "data": {
      "text/html": [
       " View project at <a href='https://wandb.ai/phildue/image_classification' target=\"_blank\">https://wandb.ai/phildue/image_classification</a>"
      ],
      "text/plain": [
       "<IPython.core.display.HTML object>"
      ]
     },
     "metadata": {},
     "output_type": "display_data"
    },
    {
     "data": {
      "text/html": [
       " View run at <a href='https://wandb.ai/phildue/image_classification/runs/5959rgjd' target=\"_blank\">https://wandb.ai/phildue/image_classification/runs/5959rgjd</a>"
      ],
      "text/plain": [
       "<IPython.core.display.HTML object>"
      ]
     },
     "metadata": {},
     "output_type": "display_data"
    },
    {
     "name": "stderr",
     "output_type": "stream",
     "text": [
      "Training:   0%|          | 0/391 [00:00<?, ?it/s]"
     ]
    }
   ],
   "source": [
    "with hydra.initialize(version_base=None, config_path=\"../config\"):\n",
    "\n",
    "    cfg_hydra = hydra.compose(config_name='train',return_hydra_config=True)['hydra']\n",
    "    cfg = hydra.compose(config_name='train')\n",
    "    print(f'Running training with: {OmegaConf.to_yaml(cfg)}')\n",
    "\n",
    "    np.random.seed(cfg['seed'])\n",
    "    torch.manual_seed(cfg['seed'])\n",
    "    random.seed(cfg['seed'])\n",
    "\n",
    "    datasets = {\n",
    "        'cifar10': Cifar10\n",
    "    }\n",
    "    dataset = datasets['cifar10'](shape=(cfg.height, cfg.width), batch_size=cfg.batch_size, data_path=cfg.data_path)\n",
    "    \n",
    "    experiment_path = cfg_hydra['run']['dir']\n",
    "\n",
    "    device = torch.device('cuda' if torch.cuda.is_available() else 'cpu')\n",
    "    print(f'Selected device: [{device}]')\n",
    "\n",
    "    model = models.load(cfg.model_name, shape_in=(cfg.height, cfg.width), shape_out=len(dataset.classes))\n",
    "\n",
    "    criterion = nn.CrossEntropyLoss()\n",
    "\n",
    "    optimizer = torch.optim.Adam(model.parameters(), lr=cfg.learning_rate)  \n",
    "\n",
    "    if len(cfg.checkpoint) > 1:\n",
    "        checkpoint = torch.load(cfg.checkpoint)\n",
    "        model.load_state_dict(checkpoint['model_state_dict'])\n",
    "        optimizer.load_state_dict(checkpoint['optimizer_state_dict'])\n",
    "        epoch = checkpoint['epoch']\n",
    "        loss = checkpoint['loss']\n",
    "\n",
    "    experiment = Tracker('image_classification', \n",
    "                         experiment_config=OmegaConf.to_object(cfg),\n",
    "                         experiment_name=cfg.experiment_name, \n",
    "                         data_path=cfg.data_path,\n",
    "                         experiment_path=experiment_path,\n",
    "                         dataset=dataset,\n",
    "                         model=model,\n",
    "                         optimizer=optimizer,\n",
    "                         use_wandb=cfg.use_wandb)\n",
    "        \n",
    "\n",
    "    for epoch in range(cfg.num_epochs):\n",
    "        \n",
    "        loss_train = train(model, dataset.train_loader, criterion, optimizer)\n",
    "\n",
    "        accuracy_val, loss_val, labels_pred = evaluate(model, dataset.test_loader, criterion)\n",
    "\n",
    "        experiment.log(epoch, scalars={'loss_val':loss_val,'loss_train':loss_train, 'accuracy_val':accuracy_val}, labels_pred=labels_pred)"
   ]
  },
  {
   "cell_type": "code",
   "execution_count": null,
   "metadata": {},
   "outputs": [],
   "source": []
  }
 ],
 "metadata": {
  "kernelspec": {
   "display_name": "base",
   "language": "python",
   "name": "python3"
  },
  "language_info": {
   "codemirror_mode": {
    "name": "ipython",
    "version": 3
   },
   "file_extension": ".py",
   "mimetype": "text/x-python",
   "name": "python",
   "nbconvert_exporter": "python",
   "pygments_lexer": "ipython3",
   "version": "3.10.13"
  }
 },
 "nbformat": 4,
 "nbformat_minor": 2
}
